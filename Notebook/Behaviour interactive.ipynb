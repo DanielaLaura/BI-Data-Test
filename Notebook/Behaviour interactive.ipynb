{
 "cells": [
  {
   "cell_type": "code",
   "execution_count": 58,
   "metadata": {
    "collapsed": true,
    "deletable": true,
    "editable": true
   },
   "outputs": [],
   "source": [
    "import sqlite3\n",
    "import pandas as pd\n",
    "import numpy as np"
   ]
  },
  {
   "cell_type": "code",
   "execution_count": 59,
   "metadata": {
    "collapsed": false,
    "deletable": true,
    "editable": true
   },
   "outputs": [
    {
     "name": "stdout",
     "output_type": "stream",
     "text": [
      " Volume in drive C is OS\n",
      " Volume Serial Number is 74EA-F0BF\n",
      "\n",
      " Directory of C:\\Users\\Daniela\n",
      "\n",
      "2018-08-13  09:14 PM                 0 database.db\n",
      "2018-08-13  11:46 AM           749,568 database_test_behaviour.db\n",
      "               2 File(s)        749,568 bytes\n",
      "               0 Dir(s)  168,827,092,992 bytes free\n"
     ]
    }
   ],
   "source": [
    "ls *.db"
   ]
  },
  {
   "cell_type": "markdown",
   "metadata": {
    "deletable": true,
    "editable": true
   },
   "source": [
    "### Load in the Data and Examine"
   ]
  },
  {
   "cell_type": "code",
   "execution_count": 60,
   "metadata": {
    "collapsed": true,
    "deletable": true,
    "editable": true
   },
   "outputs": [],
   "source": [
    "con = sqlite3.connect('database_test_behaviour.db')"
   ]
  },
  {
   "cell_type": "code",
   "execution_count": 61,
   "metadata": {
    "collapsed": false,
    "deletable": true,
    "editable": true
   },
   "outputs": [],
   "source": [
    "cursor = con.cursor()"
   ]
  },
  {
   "cell_type": "code",
   "execution_count": 62,
   "metadata": {
    "collapsed": false,
    "deletable": true,
    "editable": true
   },
   "outputs": [
    {
     "data": {
      "text/plain": [
       "<sqlite3.Cursor at 0x1a618e9ece0>"
      ]
     },
     "execution_count": 62,
     "metadata": {},
     "output_type": "execute_result"
    }
   ],
   "source": [
    "\n",
    "cursor.execute(\"SELECT name FROM sqlite_master WHERE type='table';\")\n"
   ]
  },
  {
   "cell_type": "code",
   "execution_count": 63,
   "metadata": {
    "collapsed": false,
    "deletable": true,
    "editable": true
   },
   "outputs": [
    {
     "name": "stdout",
     "output_type": "stream",
     "text": [
      "[('game_started',), ('purchases',)]\n"
     ]
    }
   ],
   "source": [
    "print(cursor.fetchall())"
   ]
  },
  {
   "cell_type": "markdown",
   "metadata": {
    "collapsed": true,
    "deletable": true,
    "editable": true
   },
   "source": [
    "#### Dump the table from database to csv in Pandas"
   ]
  },
  {
   "cell_type": "code",
   "execution_count": 64,
   "metadata": {
    "collapsed": false,
    "deletable": true,
    "editable": true
   },
   "outputs": [],
   "source": [
    "db = sqlite3.connect('database_test_behaviour.db')\n",
    "table = pd.read_sql_query(\"SELECT * from 'game_started'\", db)\n",
    "table.to_csv('game_started' + '.csv', index_label='index')"
   ]
  },
  {
   "cell_type": "code",
   "execution_count": 65,
   "metadata": {
    "collapsed": false,
    "deletable": true,
    "editable": true
   },
   "outputs": [],
   "source": [
    "game_started = pd.read_csv('game_started.csv')"
   ]
  },
  {
   "cell_type": "code",
   "execution_count": 66,
   "metadata": {
    "collapsed": false,
    "deletable": true,
    "editable": true
   },
   "outputs": [
    {
     "name": "stdout",
     "output_type": "stream",
     "text": [
      "game_started data shape:  (9775, 6)\n"
     ]
    }
   ],
   "source": [
    "print('game_started data shape: ', game_started.shape)"
   ]
  },
  {
   "cell_type": "code",
   "execution_count": 67,
   "metadata": {
    "collapsed": false,
    "deletable": true,
    "editable": true
   },
   "outputs": [
    {
     "data": {
      "text/html": [
       "<div>\n",
       "<style scoped>\n",
       "    .dataframe tbody tr th:only-of-type {\n",
       "        vertical-align: middle;\n",
       "    }\n",
       "\n",
       "    .dataframe tbody tr th {\n",
       "        vertical-align: top;\n",
       "    }\n",
       "\n",
       "    .dataframe thead th {\n",
       "        text-align: right;\n",
       "    }\n",
       "</style>\n",
       "<table border=\"1\" class=\"dataframe\">\n",
       "  <thead>\n",
       "    <tr style=\"text-align: right;\">\n",
       "      <th></th>\n",
       "      <th>index</th>\n",
       "      <th>date</th>\n",
       "      <th>user_id</th>\n",
       "      <th>build_version</th>\n",
       "      <th>store_id</th>\n",
       "      <th>player_level</th>\n",
       "    </tr>\n",
       "  </thead>\n",
       "  <tbody>\n",
       "    <tr>\n",
       "      <th>0</th>\n",
       "      <td>0</td>\n",
       "      <td>2018-01-16</td>\n",
       "      <td>00db71c6-e9df-4663-8b96-baf8233a1ffb</td>\n",
       "      <td>0.8</td>\n",
       "      <td>iOS</td>\n",
       "      <td>15.0</td>\n",
       "    </tr>\n",
       "    <tr>\n",
       "      <th>1</th>\n",
       "      <td>1</td>\n",
       "      <td>2018-01-16</td>\n",
       "      <td>00db71c6-e9df-4663-8b96-baf8233a1ffb</td>\n",
       "      <td>0.8</td>\n",
       "      <td>iOS</td>\n",
       "      <td>3.0</td>\n",
       "    </tr>\n",
       "    <tr>\n",
       "      <th>2</th>\n",
       "      <td>2</td>\n",
       "      <td>2018-01-16</td>\n",
       "      <td>00db71c6-e9df-4663-8b96-baf8233a1ffb</td>\n",
       "      <td>0.8</td>\n",
       "      <td>iOS</td>\n",
       "      <td>7.0</td>\n",
       "    </tr>\n",
       "    <tr>\n",
       "      <th>3</th>\n",
       "      <td>3</td>\n",
       "      <td>2018-01-16</td>\n",
       "      <td>00db71c6-e9df-4663-8b96-baf8233a1ffb</td>\n",
       "      <td>0.8</td>\n",
       "      <td>iOS</td>\n",
       "      <td>3.0</td>\n",
       "    </tr>\n",
       "    <tr>\n",
       "      <th>4</th>\n",
       "      <td>4</td>\n",
       "      <td>2018-01-16</td>\n",
       "      <td>00ff74d5-2db1-4f9b-9c01-dde5b8a420a6</td>\n",
       "      <td>0.8</td>\n",
       "      <td>iOS</td>\n",
       "      <td>4.0</td>\n",
       "    </tr>\n",
       "  </tbody>\n",
       "</table>\n",
       "</div>"
      ],
      "text/plain": [
       "   index        date                               user_id build_version  \\\n",
       "0      0  2018-01-16  00db71c6-e9df-4663-8b96-baf8233a1ffb           0.8   \n",
       "1      1  2018-01-16  00db71c6-e9df-4663-8b96-baf8233a1ffb           0.8   \n",
       "2      2  2018-01-16  00db71c6-e9df-4663-8b96-baf8233a1ffb           0.8   \n",
       "3      3  2018-01-16  00db71c6-e9df-4663-8b96-baf8233a1ffb           0.8   \n",
       "4      4  2018-01-16  00ff74d5-2db1-4f9b-9c01-dde5b8a420a6           0.8   \n",
       "\n",
       "  store_id  player_level  \n",
       "0      iOS          15.0  \n",
       "1      iOS           3.0  \n",
       "2      iOS           7.0  \n",
       "3      iOS           3.0  \n",
       "4      iOS           4.0  "
      ]
     },
     "execution_count": 67,
     "metadata": {},
     "output_type": "execute_result"
    }
   ],
   "source": [
    "game_started.head()"
   ]
  },
  {
   "cell_type": "code",
   "execution_count": 68,
   "metadata": {
    "collapsed": true,
    "deletable": true,
    "editable": true
   },
   "outputs": [],
   "source": [
    "table = pd.read_sql_query(\"SELECT * from 'purchases'\", db)\n",
    "table.to_csv('purchases' + '.csv', index_label='index')"
   ]
  },
  {
   "cell_type": "code",
   "execution_count": 69,
   "metadata": {
    "collapsed": true,
    "deletable": true,
    "editable": true
   },
   "outputs": [],
   "source": [
    "purchases = pd.read_csv('purchases.csv')"
   ]
  },
  {
   "cell_type": "code",
   "execution_count": 70,
   "metadata": {
    "collapsed": false,
    "deletable": true,
    "editable": true
   },
   "outputs": [
    {
     "name": "stdout",
     "output_type": "stream",
     "text": [
      "purchases data shape:  (419, 8)\n"
     ]
    }
   ],
   "source": [
    "print('purchases data shape: ', purchases.shape)"
   ]
  },
  {
   "cell_type": "code",
   "execution_count": 71,
   "metadata": {
    "collapsed": false,
    "deletable": true,
    "editable": true
   },
   "outputs": [
    {
     "data": {
      "text/html": [
       "<div>\n",
       "<style scoped>\n",
       "    .dataframe tbody tr th:only-of-type {\n",
       "        vertical-align: middle;\n",
       "    }\n",
       "\n",
       "    .dataframe tbody tr th {\n",
       "        vertical-align: top;\n",
       "    }\n",
       "\n",
       "    .dataframe thead th {\n",
       "        text-align: right;\n",
       "    }\n",
       "</style>\n",
       "<table border=\"1\" class=\"dataframe\">\n",
       "  <thead>\n",
       "    <tr style=\"text-align: right;\">\n",
       "      <th></th>\n",
       "      <th>index</th>\n",
       "      <th>date</th>\n",
       "      <th>user_id</th>\n",
       "      <th>build_version</th>\n",
       "      <th>store_id</th>\n",
       "      <th>player_level</th>\n",
       "      <th>store_item_name</th>\n",
       "      <th>dollar_spent</th>\n",
       "    </tr>\n",
       "  </thead>\n",
       "  <tbody>\n",
       "    <tr>\n",
       "      <th>0</th>\n",
       "      <td>0</td>\n",
       "      <td>2018-01-25</td>\n",
       "      <td>961f4389-e833-4f45-8e91-7074d90f77bd</td>\n",
       "      <td>0.8</td>\n",
       "      <td>iOS</td>\n",
       "      <td>3.0</td>\n",
       "      <td>bundle_1</td>\n",
       "      <td>15.99</td>\n",
       "    </tr>\n",
       "    <tr>\n",
       "      <th>1</th>\n",
       "      <td>1</td>\n",
       "      <td>2018-01-29</td>\n",
       "      <td>ed39ad9a-3db4-4c86-9df8-f94c9997a93b</td>\n",
       "      <td>1.2</td>\n",
       "      <td>iOS</td>\n",
       "      <td>5.0</td>\n",
       "      <td>bundle_8</td>\n",
       "      <td>18.50</td>\n",
       "    </tr>\n",
       "    <tr>\n",
       "      <th>2</th>\n",
       "      <td>2</td>\n",
       "      <td>2018-01-29</td>\n",
       "      <td>b6bab288-d92b-4965-ae84-a15ea06f2809</td>\n",
       "      <td>1.2</td>\n",
       "      <td>iOS</td>\n",
       "      <td>3.0</td>\n",
       "      <td>pack_d</td>\n",
       "      <td>2.50</td>\n",
       "    </tr>\n",
       "    <tr>\n",
       "      <th>3</th>\n",
       "      <td>3</td>\n",
       "      <td>2018-01-29</td>\n",
       "      <td>b6bab288-d92b-4965-ae84-a15ea06f2809</td>\n",
       "      <td>1.2</td>\n",
       "      <td>iOS</td>\n",
       "      <td>3.0</td>\n",
       "      <td>pack_a</td>\n",
       "      <td>0.99</td>\n",
       "    </tr>\n",
       "    <tr>\n",
       "      <th>4</th>\n",
       "      <td>4</td>\n",
       "      <td>2018-01-19</td>\n",
       "      <td>9966011a-6c63-406b-a50e-97054e4deabd</td>\n",
       "      <td>0.8</td>\n",
       "      <td>iOS</td>\n",
       "      <td>26.0</td>\n",
       "      <td>bundle_3</td>\n",
       "      <td>21.99</td>\n",
       "    </tr>\n",
       "    <tr>\n",
       "      <th>5</th>\n",
       "      <td>5</td>\n",
       "      <td>2018-01-29</td>\n",
       "      <td>ed39ad9a-3db4-4c86-9df8-f94c9997a93b</td>\n",
       "      <td>1.2</td>\n",
       "      <td>iOS</td>\n",
       "      <td>5.0</td>\n",
       "      <td>bundle_2</td>\n",
       "      <td>1.50</td>\n",
       "    </tr>\n",
       "    <tr>\n",
       "      <th>6</th>\n",
       "      <td>6</td>\n",
       "      <td>2018-01-24</td>\n",
       "      <td>a01933b1-8a98-4c93-b768-9773c7df67f2</td>\n",
       "      <td>1.2</td>\n",
       "      <td>iOS</td>\n",
       "      <td>4.0</td>\n",
       "      <td>bundle_3</td>\n",
       "      <td>21.99</td>\n",
       "    </tr>\n",
       "    <tr>\n",
       "      <th>7</th>\n",
       "      <td>7</td>\n",
       "      <td>2018-01-18</td>\n",
       "      <td>839cea33-cc63-45ea-bf7c-421c6a660167</td>\n",
       "      <td>0.8</td>\n",
       "      <td>Google play</td>\n",
       "      <td>16.0</td>\n",
       "      <td>bundle_8</td>\n",
       "      <td>18.50</td>\n",
       "    </tr>\n",
       "    <tr>\n",
       "      <th>8</th>\n",
       "      <td>8</td>\n",
       "      <td>2018-01-19</td>\n",
       "      <td>61a971f2-9022-44a6-bd26-ac6dd5172be2</td>\n",
       "      <td>0.8</td>\n",
       "      <td>iOS</td>\n",
       "      <td>3.0</td>\n",
       "      <td>bundle_3</td>\n",
       "      <td>21.99</td>\n",
       "    </tr>\n",
       "    <tr>\n",
       "      <th>9</th>\n",
       "      <td>9</td>\n",
       "      <td>2018-01-18</td>\n",
       "      <td>c8819387-3b84-4bdc-be00-36d0a9190628</td>\n",
       "      <td>0.8</td>\n",
       "      <td>Google play</td>\n",
       "      <td>13.0</td>\n",
       "      <td>bundle_10</td>\n",
       "      <td>18.50</td>\n",
       "    </tr>\n",
       "    <tr>\n",
       "      <th>10</th>\n",
       "      <td>10</td>\n",
       "      <td>2018-02-05</td>\n",
       "      <td>605ed958-d22d-49a0-b721-8a7aedffe15b</td>\n",
       "      <td>1.2</td>\n",
       "      <td>iOS</td>\n",
       "      <td>3.0</td>\n",
       "      <td>pack_d</td>\n",
       "      <td>2.50</td>\n",
       "    </tr>\n",
       "    <tr>\n",
       "      <th>11</th>\n",
       "      <td>11</td>\n",
       "      <td>2018-02-02</td>\n",
       "      <td>05ef2e2e-86ea-402f-a84f-dbe6435f4467</td>\n",
       "      <td>1.2</td>\n",
       "      <td>iOS</td>\n",
       "      <td>1.0</td>\n",
       "      <td>pack_e</td>\n",
       "      <td>5.00</td>\n",
       "    </tr>\n",
       "    <tr>\n",
       "      <th>12</th>\n",
       "      <td>12</td>\n",
       "      <td>2018-01-27</td>\n",
       "      <td>b3886a72-3d9c-405a-b297-a8aa72eac6d9</td>\n",
       "      <td>0.8</td>\n",
       "      <td>iOS</td>\n",
       "      <td>3.0</td>\n",
       "      <td>bundle_2</td>\n",
       "      <td>1.50</td>\n",
       "    </tr>\n",
       "    <tr>\n",
       "      <th>13</th>\n",
       "      <td>13</td>\n",
       "      <td>2018-02-05</td>\n",
       "      <td>b4c48fb1-27cd-427d-90d7-ea56c08c9a78</td>\n",
       "      <td>1.2</td>\n",
       "      <td>iOS</td>\n",
       "      <td>7.0</td>\n",
       "      <td>pack_a</td>\n",
       "      <td>0.99</td>\n",
       "    </tr>\n",
       "    <tr>\n",
       "      <th>14</th>\n",
       "      <td>14</td>\n",
       "      <td>2018-01-31</td>\n",
       "      <td>00cb1fe0-c215-4dfa-8aee-055144a15e71</td>\n",
       "      <td>1.2</td>\n",
       "      <td>iOS</td>\n",
       "      <td>5.0</td>\n",
       "      <td>bundle_1</td>\n",
       "      <td>15.99</td>\n",
       "    </tr>\n",
       "    <tr>\n",
       "      <th>15</th>\n",
       "      <td>15</td>\n",
       "      <td>2018-02-01</td>\n",
       "      <td>2d53b2f7-9990-4d7b-b865-62065f0cd78e</td>\n",
       "      <td>1.2</td>\n",
       "      <td>iOS</td>\n",
       "      <td>3.0</td>\n",
       "      <td>bundle_1</td>\n",
       "      <td>15.99</td>\n",
       "    </tr>\n",
       "    <tr>\n",
       "      <th>16</th>\n",
       "      <td>16</td>\n",
       "      <td>2018-01-16</td>\n",
       "      <td>a943678c-2a25-4b20-8c7c-e3bab31f78db</td>\n",
       "      <td>0.8</td>\n",
       "      <td>iOS</td>\n",
       "      <td>1.0</td>\n",
       "      <td>pack_e</td>\n",
       "      <td>5.00</td>\n",
       "    </tr>\n",
       "    <tr>\n",
       "      <th>17</th>\n",
       "      <td>17</td>\n",
       "      <td>2018-01-25</td>\n",
       "      <td>961f4389-e833-4f45-8e91-7074d90f77bd</td>\n",
       "      <td>0.8</td>\n",
       "      <td>iOS</td>\n",
       "      <td>3.0</td>\n",
       "      <td>pack_c</td>\n",
       "      <td>1.99</td>\n",
       "    </tr>\n",
       "    <tr>\n",
       "      <th>18</th>\n",
       "      <td>18</td>\n",
       "      <td>2018-01-20</td>\n",
       "      <td>d9ca7ac8-6b2b-46be-9d5b-5749a4fd7bbe</td>\n",
       "      <td>0.8</td>\n",
       "      <td>iOS</td>\n",
       "      <td>3.0</td>\n",
       "      <td>bundle_9</td>\n",
       "      <td>18.50</td>\n",
       "    </tr>\n",
       "    <tr>\n",
       "      <th>19</th>\n",
       "      <td>19</td>\n",
       "      <td>2018-01-30</td>\n",
       "      <td>064a199a-f4ca-4dc1-97db-1278cee8c748</td>\n",
       "      <td>1.2</td>\n",
       "      <td>iOS</td>\n",
       "      <td>10.0</td>\n",
       "      <td>bundle_3</td>\n",
       "      <td>21.99</td>\n",
       "    </tr>\n",
       "  </tbody>\n",
       "</table>\n",
       "</div>"
      ],
      "text/plain": [
       "    index        date                               user_id  build_version  \\\n",
       "0       0  2018-01-25  961f4389-e833-4f45-8e91-7074d90f77bd            0.8   \n",
       "1       1  2018-01-29  ed39ad9a-3db4-4c86-9df8-f94c9997a93b            1.2   \n",
       "2       2  2018-01-29  b6bab288-d92b-4965-ae84-a15ea06f2809            1.2   \n",
       "3       3  2018-01-29  b6bab288-d92b-4965-ae84-a15ea06f2809            1.2   \n",
       "4       4  2018-01-19  9966011a-6c63-406b-a50e-97054e4deabd            0.8   \n",
       "5       5  2018-01-29  ed39ad9a-3db4-4c86-9df8-f94c9997a93b            1.2   \n",
       "6       6  2018-01-24  a01933b1-8a98-4c93-b768-9773c7df67f2            1.2   \n",
       "7       7  2018-01-18  839cea33-cc63-45ea-bf7c-421c6a660167            0.8   \n",
       "8       8  2018-01-19  61a971f2-9022-44a6-bd26-ac6dd5172be2            0.8   \n",
       "9       9  2018-01-18  c8819387-3b84-4bdc-be00-36d0a9190628            0.8   \n",
       "10     10  2018-02-05  605ed958-d22d-49a0-b721-8a7aedffe15b            1.2   \n",
       "11     11  2018-02-02  05ef2e2e-86ea-402f-a84f-dbe6435f4467            1.2   \n",
       "12     12  2018-01-27  b3886a72-3d9c-405a-b297-a8aa72eac6d9            0.8   \n",
       "13     13  2018-02-05  b4c48fb1-27cd-427d-90d7-ea56c08c9a78            1.2   \n",
       "14     14  2018-01-31  00cb1fe0-c215-4dfa-8aee-055144a15e71            1.2   \n",
       "15     15  2018-02-01  2d53b2f7-9990-4d7b-b865-62065f0cd78e            1.2   \n",
       "16     16  2018-01-16  a943678c-2a25-4b20-8c7c-e3bab31f78db            0.8   \n",
       "17     17  2018-01-25  961f4389-e833-4f45-8e91-7074d90f77bd            0.8   \n",
       "18     18  2018-01-20  d9ca7ac8-6b2b-46be-9d5b-5749a4fd7bbe            0.8   \n",
       "19     19  2018-01-30  064a199a-f4ca-4dc1-97db-1278cee8c748            1.2   \n",
       "\n",
       "       store_id  player_level store_item_name  dollar_spent  \n",
       "0           iOS           3.0        bundle_1         15.99  \n",
       "1           iOS           5.0        bundle_8         18.50  \n",
       "2           iOS           3.0          pack_d          2.50  \n",
       "3           iOS           3.0          pack_a          0.99  \n",
       "4           iOS          26.0        bundle_3         21.99  \n",
       "5           iOS           5.0        bundle_2          1.50  \n",
       "6           iOS           4.0        bundle_3         21.99  \n",
       "7   Google play          16.0        bundle_8         18.50  \n",
       "8           iOS           3.0        bundle_3         21.99  \n",
       "9   Google play          13.0       bundle_10         18.50  \n",
       "10          iOS           3.0          pack_d          2.50  \n",
       "11          iOS           1.0          pack_e          5.00  \n",
       "12          iOS           3.0        bundle_2          1.50  \n",
       "13          iOS           7.0          pack_a          0.99  \n",
       "14          iOS           5.0        bundle_1         15.99  \n",
       "15          iOS           3.0        bundle_1         15.99  \n",
       "16          iOS           1.0          pack_e          5.00  \n",
       "17          iOS           3.0          pack_c          1.99  \n",
       "18          iOS           3.0        bundle_9         18.50  \n",
       "19          iOS          10.0        bundle_3         21.99  "
      ]
     },
     "execution_count": 71,
     "metadata": {},
     "output_type": "execute_result"
    }
   ],
   "source": [
    "purchases.head(20)"
   ]
  },
  {
   "cell_type": "markdown",
   "metadata": {
    "deletable": true,
    "editable": true
   },
   "source": [
    "#### Checking for missing values"
   ]
  },
  {
   "cell_type": "code",
   "execution_count": 72,
   "metadata": {
    "collapsed": true,
    "deletable": true,
    "editable": true
   },
   "outputs": [],
   "source": [
    "# Function to calculate missing values by column# Funct \n",
    "def missing_values_table(df):\n",
    "        # Total missing values\n",
    "        mis_val = df.isnull().sum()\n",
    "        \n",
    "        # Percentage of missing values\n",
    "        mis_val_percent = 100 * df.isnull().sum() / len(df)\n",
    "        \n",
    "        # Make a table with the results\n",
    "        mis_val_table = pd.concat([mis_val, mis_val_percent], axis=1)\n",
    "        \n",
    "        # Rename the columns\n",
    "        mis_val_table_ren_columns = mis_val_table.rename(\n",
    "        columns = {0 : 'Missing Values', 1 : '% of Total Values'})\n",
    "        \n",
    "        # Sort the table by percentage of missing descending\n",
    "        mis_val_table_ren_columns = mis_val_table_ren_columns[\n",
    "            mis_val_table_ren_columns.iloc[:,1] != 0].sort_values(\n",
    "        '% of Total Values', ascending=False).round(1)\n",
    "        \n",
    "        # Print some summary information\n",
    "        print (\"Your selected dataframe has \" + str(df.shape[1]) + \" columns.\\n\"      \n",
    "            \"There are \" + str(mis_val_table_ren_columns.shape[0]) +\n",
    "              \" columns that have missing values.\")\n",
    "        \n",
    "        # Return the dataframe with missing information\n",
    "        return mis_val_table_ren_columns"
   ]
  },
  {
   "cell_type": "code",
   "execution_count": 73,
   "metadata": {
    "collapsed": false,
    "deletable": true,
    "editable": true
   },
   "outputs": [
    {
     "name": "stdout",
     "output_type": "stream",
     "text": [
      "Your selected dataframe has 6 columns.\n",
      "There are 4 columns that have missing values.\n"
     ]
    },
    {
     "data": {
      "text/html": [
       "<div>\n",
       "<style scoped>\n",
       "    .dataframe tbody tr th:only-of-type {\n",
       "        vertical-align: middle;\n",
       "    }\n",
       "\n",
       "    .dataframe tbody tr th {\n",
       "        vertical-align: top;\n",
       "    }\n",
       "\n",
       "    .dataframe thead th {\n",
       "        text-align: right;\n",
       "    }\n",
       "</style>\n",
       "<table border=\"1\" class=\"dataframe\">\n",
       "  <thead>\n",
       "    <tr style=\"text-align: right;\">\n",
       "      <th></th>\n",
       "      <th>Missing Values</th>\n",
       "      <th>% of Total Values</th>\n",
       "    </tr>\n",
       "  </thead>\n",
       "  <tbody>\n",
       "    <tr>\n",
       "      <th>player_level</th>\n",
       "      <td>6</td>\n",
       "      <td>0.1</td>\n",
       "    </tr>\n",
       "    <tr>\n",
       "      <th>user_id</th>\n",
       "      <td>1</td>\n",
       "      <td>0.0</td>\n",
       "    </tr>\n",
       "    <tr>\n",
       "      <th>build_version</th>\n",
       "      <td>1</td>\n",
       "      <td>0.0</td>\n",
       "    </tr>\n",
       "    <tr>\n",
       "      <th>store_id</th>\n",
       "      <td>1</td>\n",
       "      <td>0.0</td>\n",
       "    </tr>\n",
       "  </tbody>\n",
       "</table>\n",
       "</div>"
      ],
      "text/plain": [
       "               Missing Values  % of Total Values\n",
       "player_level                6                0.1\n",
       "user_id                     1                0.0\n",
       "build_version               1                0.0\n",
       "store_id                    1                0.0"
      ]
     },
     "execution_count": 73,
     "metadata": {},
     "output_type": "execute_result"
    }
   ],
   "source": [
    "# Missing values statistics\n",
    "missing_values = missing_values_table(game_started)\n",
    "missing_values.head(20)"
   ]
  },
  {
   "cell_type": "code",
   "execution_count": 74,
   "metadata": {
    "collapsed": false,
    "deletable": true,
    "editable": true
   },
   "outputs": [
    {
     "name": "stdout",
     "output_type": "stream",
     "text": [
      "Your selected dataframe has 8 columns.\n",
      "There are 6 columns that have missing values.\n"
     ]
    },
    {
     "data": {
      "text/html": [
       "<div>\n",
       "<style scoped>\n",
       "    .dataframe tbody tr th:only-of-type {\n",
       "        vertical-align: middle;\n",
       "    }\n",
       "\n",
       "    .dataframe tbody tr th {\n",
       "        vertical-align: top;\n",
       "    }\n",
       "\n",
       "    .dataframe thead th {\n",
       "        text-align: right;\n",
       "    }\n",
       "</style>\n",
       "<table border=\"1\" class=\"dataframe\">\n",
       "  <thead>\n",
       "    <tr style=\"text-align: right;\">\n",
       "      <th></th>\n",
       "      <th>Missing Values</th>\n",
       "      <th>% of Total Values</th>\n",
       "    </tr>\n",
       "  </thead>\n",
       "  <tbody>\n",
       "    <tr>\n",
       "      <th>user_id</th>\n",
       "      <td>1</td>\n",
       "      <td>0.2</td>\n",
       "    </tr>\n",
       "    <tr>\n",
       "      <th>build_version</th>\n",
       "      <td>1</td>\n",
       "      <td>0.2</td>\n",
       "    </tr>\n",
       "    <tr>\n",
       "      <th>store_id</th>\n",
       "      <td>1</td>\n",
       "      <td>0.2</td>\n",
       "    </tr>\n",
       "    <tr>\n",
       "      <th>player_level</th>\n",
       "      <td>1</td>\n",
       "      <td>0.2</td>\n",
       "    </tr>\n",
       "    <tr>\n",
       "      <th>store_item_name</th>\n",
       "      <td>1</td>\n",
       "      <td>0.2</td>\n",
       "    </tr>\n",
       "    <tr>\n",
       "      <th>dollar_spent</th>\n",
       "      <td>1</td>\n",
       "      <td>0.2</td>\n",
       "    </tr>\n",
       "  </tbody>\n",
       "</table>\n",
       "</div>"
      ],
      "text/plain": [
       "                 Missing Values  % of Total Values\n",
       "user_id                       1                0.2\n",
       "build_version                 1                0.2\n",
       "store_id                      1                0.2\n",
       "player_level                  1                0.2\n",
       "store_item_name               1                0.2\n",
       "dollar_spent                  1                0.2"
      ]
     },
     "execution_count": 74,
     "metadata": {},
     "output_type": "execute_result"
    }
   ],
   "source": [
    "# Missing values statistics\n",
    "missing_values = missing_values_table(purchases)\n",
    "missing_values.head(20)"
   ]
  },
  {
   "cell_type": "markdown",
   "metadata": {
    "collapsed": false,
    "deletable": true,
    "editable": true
   },
   "source": [
    "### Question A"
   ]
  },
  {
   "cell_type": "markdown",
   "metadata": {
    "deletable": true,
    "editable": true
   },
   "source": [
    "- __Daily Active Customer__"
   ]
  },
  {
   "cell_type": "code",
   "execution_count": 75,
   "metadata": {
    "collapsed": false,
    "deletable": true,
    "editable": true
   },
   "outputs": [
    {
     "data": {
      "text/html": [
       "<div>\n",
       "<style scoped>\n",
       "    .dataframe tbody tr th:only-of-type {\n",
       "        vertical-align: middle;\n",
       "    }\n",
       "\n",
       "    .dataframe tbody tr th {\n",
       "        vertical-align: top;\n",
       "    }\n",
       "\n",
       "    .dataframe thead th {\n",
       "        text-align: right;\n",
       "    }\n",
       "</style>\n",
       "<table border=\"1\" class=\"dataframe\">\n",
       "  <thead>\n",
       "    <tr style=\"text-align: right;\">\n",
       "      <th></th>\n",
       "      <th>index</th>\n",
       "      <th>user_id</th>\n",
       "      <th>build_version</th>\n",
       "      <th>store_id</th>\n",
       "      <th>player_level</th>\n",
       "    </tr>\n",
       "    <tr>\n",
       "      <th>date</th>\n",
       "      <th></th>\n",
       "      <th></th>\n",
       "      <th></th>\n",
       "      <th></th>\n",
       "      <th></th>\n",
       "    </tr>\n",
       "  </thead>\n",
       "  <tbody>\n",
       "    <tr>\n",
       "      <th>\\r\\n</th>\n",
       "      <td>1</td>\n",
       "      <td>0</td>\n",
       "      <td>0</td>\n",
       "      <td>0</td>\n",
       "      <td>0</td>\n",
       "    </tr>\n",
       "    <tr>\n",
       "      <th>2018-01-16</th>\n",
       "      <td>752</td>\n",
       "      <td>752</td>\n",
       "      <td>752</td>\n",
       "      <td>752</td>\n",
       "      <td>752</td>\n",
       "    </tr>\n",
       "    <tr>\n",
       "      <th>2018-01-17</th>\n",
       "      <td>986</td>\n",
       "      <td>986</td>\n",
       "      <td>986</td>\n",
       "      <td>986</td>\n",
       "      <td>983</td>\n",
       "    </tr>\n",
       "    <tr>\n",
       "      <th>2018-01-18</th>\n",
       "      <td>695</td>\n",
       "      <td>695</td>\n",
       "      <td>695</td>\n",
       "      <td>695</td>\n",
       "      <td>695</td>\n",
       "    </tr>\n",
       "    <tr>\n",
       "      <th>2018-01-19</th>\n",
       "      <td>791</td>\n",
       "      <td>791</td>\n",
       "      <td>791</td>\n",
       "      <td>791</td>\n",
       "      <td>791</td>\n",
       "    </tr>\n",
       "    <tr>\n",
       "      <th>2018-01-20</th>\n",
       "      <td>104</td>\n",
       "      <td>104</td>\n",
       "      <td>104</td>\n",
       "      <td>104</td>\n",
       "      <td>104</td>\n",
       "    </tr>\n",
       "    <tr>\n",
       "      <th>2018-01-21</th>\n",
       "      <td>27</td>\n",
       "      <td>27</td>\n",
       "      <td>27</td>\n",
       "      <td>27</td>\n",
       "      <td>27</td>\n",
       "    </tr>\n",
       "    <tr>\n",
       "      <th>2018-01-22</th>\n",
       "      <td>544</td>\n",
       "      <td>544</td>\n",
       "      <td>544</td>\n",
       "      <td>544</td>\n",
       "      <td>544</td>\n",
       "    </tr>\n",
       "    <tr>\n",
       "      <th>2018-01-23</th>\n",
       "      <td>511</td>\n",
       "      <td>511</td>\n",
       "      <td>511</td>\n",
       "      <td>511</td>\n",
       "      <td>511</td>\n",
       "    </tr>\n",
       "    <tr>\n",
       "      <th>2018-01-24</th>\n",
       "      <td>659</td>\n",
       "      <td>659</td>\n",
       "      <td>659</td>\n",
       "      <td>659</td>\n",
       "      <td>659</td>\n",
       "    </tr>\n",
       "    <tr>\n",
       "      <th>2018-01-25</th>\n",
       "      <td>577</td>\n",
       "      <td>577</td>\n",
       "      <td>577</td>\n",
       "      <td>577</td>\n",
       "      <td>577</td>\n",
       "    </tr>\n",
       "    <tr>\n",
       "      <th>2018-01-26</th>\n",
       "      <td>499</td>\n",
       "      <td>499</td>\n",
       "      <td>499</td>\n",
       "      <td>499</td>\n",
       "      <td>497</td>\n",
       "    </tr>\n",
       "    <tr>\n",
       "      <th>2018-01-27</th>\n",
       "      <td>8</td>\n",
       "      <td>8</td>\n",
       "      <td>8</td>\n",
       "      <td>8</td>\n",
       "      <td>8</td>\n",
       "    </tr>\n",
       "    <tr>\n",
       "      <th>2018-01-28</th>\n",
       "      <td>2</td>\n",
       "      <td>2</td>\n",
       "      <td>2</td>\n",
       "      <td>2</td>\n",
       "      <td>2</td>\n",
       "    </tr>\n",
       "    <tr>\n",
       "      <th>2018-01-29</th>\n",
       "      <td>755</td>\n",
       "      <td>755</td>\n",
       "      <td>755</td>\n",
       "      <td>755</td>\n",
       "      <td>755</td>\n",
       "    </tr>\n",
       "    <tr>\n",
       "      <th>2018-01-30</th>\n",
       "      <td>415</td>\n",
       "      <td>415</td>\n",
       "      <td>415</td>\n",
       "      <td>415</td>\n",
       "      <td>415</td>\n",
       "    </tr>\n",
       "    <tr>\n",
       "      <th>2018-01-31</th>\n",
       "      <td>538</td>\n",
       "      <td>538</td>\n",
       "      <td>538</td>\n",
       "      <td>538</td>\n",
       "      <td>538</td>\n",
       "    </tr>\n",
       "    <tr>\n",
       "      <th>2018-02-01</th>\n",
       "      <td>440</td>\n",
       "      <td>440</td>\n",
       "      <td>440</td>\n",
       "      <td>440</td>\n",
       "      <td>440</td>\n",
       "    </tr>\n",
       "    <tr>\n",
       "      <th>2018-02-02</th>\n",
       "      <td>584</td>\n",
       "      <td>584</td>\n",
       "      <td>584</td>\n",
       "      <td>584</td>\n",
       "      <td>584</td>\n",
       "    </tr>\n",
       "    <tr>\n",
       "      <th>2018-02-03</th>\n",
       "      <td>10</td>\n",
       "      <td>10</td>\n",
       "      <td>10</td>\n",
       "      <td>10</td>\n",
       "      <td>10</td>\n",
       "    </tr>\n",
       "    <tr>\n",
       "      <th>2018-02-04</th>\n",
       "      <td>12</td>\n",
       "      <td>12</td>\n",
       "      <td>12</td>\n",
       "      <td>12</td>\n",
       "      <td>12</td>\n",
       "    </tr>\n",
       "    <tr>\n",
       "      <th>2018-02-05</th>\n",
       "      <td>496</td>\n",
       "      <td>496</td>\n",
       "      <td>496</td>\n",
       "      <td>496</td>\n",
       "      <td>496</td>\n",
       "    </tr>\n",
       "    <tr>\n",
       "      <th>2018-02-06</th>\n",
       "      <td>369</td>\n",
       "      <td>369</td>\n",
       "      <td>369</td>\n",
       "      <td>369</td>\n",
       "      <td>369</td>\n",
       "    </tr>\n",
       "  </tbody>\n",
       "</table>\n",
       "</div>"
      ],
      "text/plain": [
       "            index  user_id  build_version  store_id  player_level\n",
       "date                                                             \n",
       "\\r\\n            1        0              0         0             0\n",
       "2018-01-16    752      752            752       752           752\n",
       "2018-01-17    986      986            986       986           983\n",
       "2018-01-18    695      695            695       695           695\n",
       "2018-01-19    791      791            791       791           791\n",
       "2018-01-20    104      104            104       104           104\n",
       "2018-01-21     27       27             27        27            27\n",
       "2018-01-22    544      544            544       544           544\n",
       "2018-01-23    511      511            511       511           511\n",
       "2018-01-24    659      659            659       659           659\n",
       "2018-01-25    577      577            577       577           577\n",
       "2018-01-26    499      499            499       499           497\n",
       "2018-01-27      8        8              8         8             8\n",
       "2018-01-28      2        2              2         2             2\n",
       "2018-01-29    755      755            755       755           755\n",
       "2018-01-30    415      415            415       415           415\n",
       "2018-01-31    538      538            538       538           538\n",
       "2018-02-01    440      440            440       440           440\n",
       "2018-02-02    584      584            584       584           584\n",
       "2018-02-03     10       10             10        10            10\n",
       "2018-02-04     12       12             12        12            12\n",
       "2018-02-05    496      496            496       496           496\n",
       "2018-02-06    369      369            369       369           369"
      ]
     },
     "execution_count": 75,
     "metadata": {},
     "output_type": "execute_result"
    }
   ],
   "source": [
    "game_started.groupby(['date']).count()"
   ]
  },
  {
   "cell_type": "code",
   "execution_count": 76,
   "metadata": {
    "collapsed": false,
    "deletable": true,
    "editable": true
   },
   "outputs": [
    {
     "data": {
      "text/plain": [
       "index              int64\n",
       "date              object\n",
       "user_id           object\n",
       "build_version     object\n",
       "store_id          object\n",
       "player_level     float64\n",
       "dtype: object"
      ]
     },
     "execution_count": 76,
     "metadata": {},
     "output_type": "execute_result"
    }
   ],
   "source": [
    "game_started.dtypes"
   ]
  },
  {
   "cell_type": "code",
   "execution_count": 77,
   "metadata": {
    "collapsed": false,
    "deletable": true,
    "editable": true
   },
   "outputs": [
    {
     "name": "stdout",
     "output_type": "stream",
     "text": [
      "Your selected dataframe has 6 columns.\n",
      "There are 4 columns that have missing values.\n"
     ]
    },
    {
     "data": {
      "text/html": [
       "<div>\n",
       "<style scoped>\n",
       "    .dataframe tbody tr th:only-of-type {\n",
       "        vertical-align: middle;\n",
       "    }\n",
       "\n",
       "    .dataframe tbody tr th {\n",
       "        vertical-align: top;\n",
       "    }\n",
       "\n",
       "    .dataframe thead th {\n",
       "        text-align: right;\n",
       "    }\n",
       "</style>\n",
       "<table border=\"1\" class=\"dataframe\">\n",
       "  <thead>\n",
       "    <tr style=\"text-align: right;\">\n",
       "      <th></th>\n",
       "      <th>Missing Values</th>\n",
       "      <th>% of Total Values</th>\n",
       "    </tr>\n",
       "  </thead>\n",
       "  <tbody>\n",
       "    <tr>\n",
       "      <th>player_level</th>\n",
       "      <td>6</td>\n",
       "      <td>0.1</td>\n",
       "    </tr>\n",
       "    <tr>\n",
       "      <th>user_id</th>\n",
       "      <td>1</td>\n",
       "      <td>0.0</td>\n",
       "    </tr>\n",
       "    <tr>\n",
       "      <th>build_version</th>\n",
       "      <td>1</td>\n",
       "      <td>0.0</td>\n",
       "    </tr>\n",
       "    <tr>\n",
       "      <th>store_id</th>\n",
       "      <td>1</td>\n",
       "      <td>0.0</td>\n",
       "    </tr>\n",
       "  </tbody>\n",
       "</table>\n",
       "</div>"
      ],
      "text/plain": [
       "               Missing Values  % of Total Values\n",
       "player_level                6                0.1\n",
       "user_id                     1                0.0\n",
       "build_version               1                0.0\n",
       "store_id                    1                0.0"
      ]
     },
     "execution_count": 77,
     "metadata": {},
     "output_type": "execute_result"
    }
   ],
   "source": [
    "missing_values = missing_values_table(game_started)\n",
    "missing_values.head(20)"
   ]
  },
  {
   "cell_type": "code",
   "execution_count": 78,
   "metadata": {
    "collapsed": false,
    "deletable": true,
    "editable": true
   },
   "outputs": [
    {
     "data": {
      "text/plain": [
       "True"
      ]
     },
     "execution_count": 78,
     "metadata": {},
     "output_type": "execute_result"
    }
   ],
   "source": [
    "pd.isnull(np.datetime64('NaT'))"
   ]
  },
  {
   "cell_type": "code",
   "execution_count": 79,
   "metadata": {
    "collapsed": false,
    "deletable": true,
    "editable": true
   },
   "outputs": [
    {
     "data": {
      "text/plain": [
       "0       False\n",
       "1       False\n",
       "2       False\n",
       "3       False\n",
       "4       False\n",
       "5       False\n",
       "6       False\n",
       "7       False\n",
       "8       False\n",
       "9       False\n",
       "10      False\n",
       "11      False\n",
       "12      False\n",
       "13      False\n",
       "14      False\n",
       "15      False\n",
       "16      False\n",
       "17      False\n",
       "18      False\n",
       "19      False\n",
       "20      False\n",
       "21      False\n",
       "22      False\n",
       "23      False\n",
       "24      False\n",
       "25      False\n",
       "26      False\n",
       "27      False\n",
       "28      False\n",
       "29      False\n",
       "        ...  \n",
       "9745    False\n",
       "9746    False\n",
       "9747    False\n",
       "9748    False\n",
       "9749    False\n",
       "9750    False\n",
       "9751    False\n",
       "9752    False\n",
       "9753    False\n",
       "9754    False\n",
       "9755    False\n",
       "9756    False\n",
       "9757    False\n",
       "9758    False\n",
       "9759    False\n",
       "9760    False\n",
       "9761    False\n",
       "9762    False\n",
       "9763    False\n",
       "9764    False\n",
       "9765    False\n",
       "9766    False\n",
       "9767    False\n",
       "9768    False\n",
       "9769    False\n",
       "9770    False\n",
       "9771    False\n",
       "9772    False\n",
       "9773    False\n",
       "9774     True\n",
       "Name: date, Length: 9775, dtype: bool"
      ]
     },
     "execution_count": 79,
     "metadata": {},
     "output_type": "execute_result"
    }
   ],
   "source": [
    "game_started['date'].str.contains('\\r\\n')"
   ]
  },
  {
   "cell_type": "code",
   "execution_count": 80,
   "metadata": {
    "collapsed": false,
    "deletable": true,
    "editable": true
   },
   "outputs": [],
   "source": [
    "game_started = game_started.replace('\\r\\n', np.nan).dropna()\n"
   ]
  },
  {
   "cell_type": "code",
   "execution_count": 81,
   "metadata": {
    "collapsed": false,
    "deletable": true,
    "editable": true
   },
   "outputs": [],
   "source": [
    "#game_started['date'] =  pd.to_datetime(game_started['date'],  infer_datetime_format=True)\n"
   ]
  },
  {
   "cell_type": "code",
   "execution_count": 82,
   "metadata": {
    "collapsed": false,
    "deletable": true,
    "editable": true
   },
   "outputs": [
    {
     "data": {
      "text/plain": [
       "index              int64\n",
       "date              object\n",
       "user_id           object\n",
       "build_version     object\n",
       "store_id          object\n",
       "player_level     float64\n",
       "dtype: object"
      ]
     },
     "execution_count": 82,
     "metadata": {},
     "output_type": "execute_result"
    }
   ],
   "source": [
    "game_started.dtypes"
   ]
  },
  {
   "cell_type": "code",
   "execution_count": 83,
   "metadata": {
    "collapsed": false,
    "deletable": true,
    "editable": true
   },
   "outputs": [
    {
     "data": {
      "text/plain": [
       "index            0\n",
       "date             0\n",
       "user_id          0\n",
       "build_version    0\n",
       "store_id         0\n",
       "player_level     0\n",
       "dtype: int64"
      ]
     },
     "execution_count": 83,
     "metadata": {},
     "output_type": "execute_result"
    }
   ],
   "source": [
    "game_started.isnull().sum()"
   ]
  },
  {
   "cell_type": "code",
   "execution_count": 84,
   "metadata": {
    "collapsed": true,
    "deletable": true,
    "editable": true
   },
   "outputs": [],
   "source": [
    "game_started.dropna(subset=['user_id'], inplace=True)"
   ]
  },
  {
   "cell_type": "code",
   "execution_count": 85,
   "metadata": {
    "collapsed": true,
    "deletable": true,
    "editable": true
   },
   "outputs": [],
   "source": [
    "game_started['date'] = pd.to_datetime(game_started['date'])"
   ]
  },
  {
   "cell_type": "code",
   "execution_count": 86,
   "metadata": {
    "collapsed": false,
    "deletable": true,
    "editable": true
   },
   "outputs": [],
   "source": [
    "game=game_started.groupby(['date']).count()\n"
   ]
  },
  {
   "cell_type": "code",
   "execution_count": 87,
   "metadata": {
    "collapsed": false,
    "deletable": true,
    "editable": true
   },
   "outputs": [
    {
     "data": {
      "text/html": [
       "<div>\n",
       "<style scoped>\n",
       "    .dataframe tbody tr th:only-of-type {\n",
       "        vertical-align: middle;\n",
       "    }\n",
       "\n",
       "    .dataframe tbody tr th {\n",
       "        vertical-align: top;\n",
       "    }\n",
       "\n",
       "    .dataframe thead th {\n",
       "        text-align: right;\n",
       "    }\n",
       "</style>\n",
       "<table border=\"1\" class=\"dataframe\">\n",
       "  <thead>\n",
       "    <tr style=\"text-align: right;\">\n",
       "      <th></th>\n",
       "      <th>index</th>\n",
       "      <th>user_id</th>\n",
       "      <th>build_version</th>\n",
       "      <th>store_id</th>\n",
       "      <th>player_level</th>\n",
       "    </tr>\n",
       "    <tr>\n",
       "      <th>date</th>\n",
       "      <th></th>\n",
       "      <th></th>\n",
       "      <th></th>\n",
       "      <th></th>\n",
       "      <th></th>\n",
       "    </tr>\n",
       "  </thead>\n",
       "  <tbody>\n",
       "    <tr>\n",
       "      <th>2018-01-16</th>\n",
       "      <td>752</td>\n",
       "      <td>752</td>\n",
       "      <td>752</td>\n",
       "      <td>752</td>\n",
       "      <td>752</td>\n",
       "    </tr>\n",
       "    <tr>\n",
       "      <th>2018-01-17</th>\n",
       "      <td>983</td>\n",
       "      <td>983</td>\n",
       "      <td>983</td>\n",
       "      <td>983</td>\n",
       "      <td>983</td>\n",
       "    </tr>\n",
       "    <tr>\n",
       "      <th>2018-01-18</th>\n",
       "      <td>695</td>\n",
       "      <td>695</td>\n",
       "      <td>695</td>\n",
       "      <td>695</td>\n",
       "      <td>695</td>\n",
       "    </tr>\n",
       "    <tr>\n",
       "      <th>2018-01-19</th>\n",
       "      <td>791</td>\n",
       "      <td>791</td>\n",
       "      <td>791</td>\n",
       "      <td>791</td>\n",
       "      <td>791</td>\n",
       "    </tr>\n",
       "    <tr>\n",
       "      <th>2018-01-20</th>\n",
       "      <td>104</td>\n",
       "      <td>104</td>\n",
       "      <td>104</td>\n",
       "      <td>104</td>\n",
       "      <td>104</td>\n",
       "    </tr>\n",
       "    <tr>\n",
       "      <th>2018-01-21</th>\n",
       "      <td>27</td>\n",
       "      <td>27</td>\n",
       "      <td>27</td>\n",
       "      <td>27</td>\n",
       "      <td>27</td>\n",
       "    </tr>\n",
       "    <tr>\n",
       "      <th>2018-01-22</th>\n",
       "      <td>544</td>\n",
       "      <td>544</td>\n",
       "      <td>544</td>\n",
       "      <td>544</td>\n",
       "      <td>544</td>\n",
       "    </tr>\n",
       "    <tr>\n",
       "      <th>2018-01-23</th>\n",
       "      <td>511</td>\n",
       "      <td>511</td>\n",
       "      <td>511</td>\n",
       "      <td>511</td>\n",
       "      <td>511</td>\n",
       "    </tr>\n",
       "    <tr>\n",
       "      <th>2018-01-24</th>\n",
       "      <td>659</td>\n",
       "      <td>659</td>\n",
       "      <td>659</td>\n",
       "      <td>659</td>\n",
       "      <td>659</td>\n",
       "    </tr>\n",
       "    <tr>\n",
       "      <th>2018-01-25</th>\n",
       "      <td>577</td>\n",
       "      <td>577</td>\n",
       "      <td>577</td>\n",
       "      <td>577</td>\n",
       "      <td>577</td>\n",
       "    </tr>\n",
       "    <tr>\n",
       "      <th>2018-01-26</th>\n",
       "      <td>497</td>\n",
       "      <td>497</td>\n",
       "      <td>497</td>\n",
       "      <td>497</td>\n",
       "      <td>497</td>\n",
       "    </tr>\n",
       "    <tr>\n",
       "      <th>2018-01-27</th>\n",
       "      <td>8</td>\n",
       "      <td>8</td>\n",
       "      <td>8</td>\n",
       "      <td>8</td>\n",
       "      <td>8</td>\n",
       "    </tr>\n",
       "    <tr>\n",
       "      <th>2018-01-28</th>\n",
       "      <td>2</td>\n",
       "      <td>2</td>\n",
       "      <td>2</td>\n",
       "      <td>2</td>\n",
       "      <td>2</td>\n",
       "    </tr>\n",
       "    <tr>\n",
       "      <th>2018-01-29</th>\n",
       "      <td>755</td>\n",
       "      <td>755</td>\n",
       "      <td>755</td>\n",
       "      <td>755</td>\n",
       "      <td>755</td>\n",
       "    </tr>\n",
       "    <tr>\n",
       "      <th>2018-01-30</th>\n",
       "      <td>415</td>\n",
       "      <td>415</td>\n",
       "      <td>415</td>\n",
       "      <td>415</td>\n",
       "      <td>415</td>\n",
       "    </tr>\n",
       "    <tr>\n",
       "      <th>2018-01-31</th>\n",
       "      <td>538</td>\n",
       "      <td>538</td>\n",
       "      <td>538</td>\n",
       "      <td>538</td>\n",
       "      <td>538</td>\n",
       "    </tr>\n",
       "    <tr>\n",
       "      <th>2018-02-01</th>\n",
       "      <td>440</td>\n",
       "      <td>440</td>\n",
       "      <td>440</td>\n",
       "      <td>440</td>\n",
       "      <td>440</td>\n",
       "    </tr>\n",
       "    <tr>\n",
       "      <th>2018-02-02</th>\n",
       "      <td>584</td>\n",
       "      <td>584</td>\n",
       "      <td>584</td>\n",
       "      <td>584</td>\n",
       "      <td>584</td>\n",
       "    </tr>\n",
       "    <tr>\n",
       "      <th>2018-02-03</th>\n",
       "      <td>10</td>\n",
       "      <td>10</td>\n",
       "      <td>10</td>\n",
       "      <td>10</td>\n",
       "      <td>10</td>\n",
       "    </tr>\n",
       "    <tr>\n",
       "      <th>2018-02-04</th>\n",
       "      <td>12</td>\n",
       "      <td>12</td>\n",
       "      <td>12</td>\n",
       "      <td>12</td>\n",
       "      <td>12</td>\n",
       "    </tr>\n",
       "  </tbody>\n",
       "</table>\n",
       "</div>"
      ],
      "text/plain": [
       "            index  user_id  build_version  store_id  player_level\n",
       "date                                                             \n",
       "2018-01-16    752      752            752       752           752\n",
       "2018-01-17    983      983            983       983           983\n",
       "2018-01-18    695      695            695       695           695\n",
       "2018-01-19    791      791            791       791           791\n",
       "2018-01-20    104      104            104       104           104\n",
       "2018-01-21     27       27             27        27            27\n",
       "2018-01-22    544      544            544       544           544\n",
       "2018-01-23    511      511            511       511           511\n",
       "2018-01-24    659      659            659       659           659\n",
       "2018-01-25    577      577            577       577           577\n",
       "2018-01-26    497      497            497       497           497\n",
       "2018-01-27      8        8              8         8             8\n",
       "2018-01-28      2        2              2         2             2\n",
       "2018-01-29    755      755            755       755           755\n",
       "2018-01-30    415      415            415       415           415\n",
       "2018-01-31    538      538            538       538           538\n",
       "2018-02-01    440      440            440       440           440\n",
       "2018-02-02    584      584            584       584           584\n",
       "2018-02-03     10       10             10        10            10\n",
       "2018-02-04     12       12             12        12            12"
      ]
     },
     "execution_count": 87,
     "metadata": {},
     "output_type": "execute_result"
    }
   ],
   "source": [
    "game.head(20)"
   ]
  },
  {
   "cell_type": "code",
   "execution_count": 88,
   "metadata": {
    "collapsed": true,
    "deletable": true,
    "editable": true
   },
   "outputs": [],
   "source": [
    "import matplotlib.pyplot as plt\n",
    "import seaborn as sns\n",
    "%matplotlib inline\n",
    "sns.set()"
   ]
  },
  {
   "cell_type": "code",
   "execution_count": 89,
   "metadata": {
    "collapsed": false,
    "deletable": true,
    "editable": true
   },
   "outputs": [
    {
     "data": {
      "image/png": "[encoded data removed]",
      "text/plain": [
       "<Figure size 1440x720 with 1 Axes>"
      ]
     },
     "metadata": {},
     "output_type": "display_data"
    }
   ],
   "source": [
    "game[['user_id']].plot(figsize=(20,10), linewidth=5, fontsize=20)\n",
    "plt.xlabel('Year', fontsize=20);"
   ]
  },
  {
   "cell_type": "markdown",
   "metadata": {
    "deletable": true,
    "editable": true
   },
   "source": [
    "As per the the table and plot from above, the number of active customers are very high at the begining of the period (I imagine is the relase of the game), the variation is not very high following that period, but has few drop-downs due to some game updates (I guess), where after that the activity increases again.\n"
   ]
  },
  {
   "cell_type": "markdown",
   "metadata": {
    "deletable": true,
    "editable": true
   },
   "source": [
    "- __Daily Active User Per build version and player level__"
   ]
  },
  {
   "cell_type": "code",
   "execution_count": 90,
   "metadata": {
    "collapsed": false,
    "deletable": true,
    "editable": true
   },
   "outputs": [
    {
     "data": {
      "text/html": [
       "<div>\n",
       "<style scoped>\n",
       "    .dataframe tbody tr th:only-of-type {\n",
       "        vertical-align: middle;\n",
       "    }\n",
       "\n",
       "    .dataframe tbody tr th {\n",
       "        vertical-align: top;\n",
       "    }\n",
       "\n",
       "    .dataframe thead th {\n",
       "        text-align: right;\n",
       "    }\n",
       "</style>\n",
       "<table border=\"1\" class=\"dataframe\">\n",
       "  <thead>\n",
       "    <tr style=\"text-align: right;\">\n",
       "      <th></th>\n",
       "      <th></th>\n",
       "      <th></th>\n",
       "      <th>index</th>\n",
       "      <th>user_id</th>\n",
       "      <th>store_id</th>\n",
       "    </tr>\n",
       "    <tr>\n",
       "      <th>date</th>\n",
       "      <th>build_version</th>\n",
       "      <th>player_level</th>\n",
       "      <th></th>\n",
       "      <th></th>\n",
       "      <th></th>\n",
       "    </tr>\n",
       "  </thead>\n",
       "  <tbody>\n",
       "    <tr>\n",
       "      <th rowspan=\"5\" valign=\"top\">2018-01-16</th>\n",
       "      <th rowspan=\"5\" valign=\"top\">0.0.1</th>\n",
       "      <th>3.0</th>\n",
       "      <td>148</td>\n",
       "      <td>148</td>\n",
       "      <td>148</td>\n",
       "    </tr>\n",
       "    <tr>\n",
       "      <th>4.0</th>\n",
       "      <td>3</td>\n",
       "      <td>3</td>\n",
       "      <td>3</td>\n",
       "    </tr>\n",
       "    <tr>\n",
       "      <th>5.0</th>\n",
       "      <td>5</td>\n",
       "      <td>5</td>\n",
       "      <td>5</td>\n",
       "    </tr>\n",
       "    <tr>\n",
       "      <th>15.0</th>\n",
       "      <td>7</td>\n",
       "      <td>7</td>\n",
       "      <td>7</td>\n",
       "    </tr>\n",
       "    <tr>\n",
       "      <th>29.0</th>\n",
       "      <td>5</td>\n",
       "      <td>5</td>\n",
       "      <td>5</td>\n",
       "    </tr>\n",
       "  </tbody>\n",
       "</table>\n",
       "</div>"
      ],
      "text/plain": [
       "                                       index  user_id  store_id\n",
       "date       build_version player_level                          \n",
       "2018-01-16 0.0.1         3.0             148      148       148\n",
       "                         4.0               3        3         3\n",
       "                         5.0               5        5         5\n",
       "                         15.0              7        7         7\n",
       "                         29.0              5        5         5"
      ]
     },
     "execution_count": 90,
     "metadata": {},
     "output_type": "execute_result"
    }
   ],
   "source": [
    "Daily_Active_User=game_started.groupby(['date','build_version','player_level']).count()\n",
    "Daily_Active_User.head()"
   ]
  },
  {
   "cell_type": "code",
   "execution_count": 91,
   "metadata": {
    "collapsed": false,
    "deletable": true,
    "editable": true
   },
   "outputs": [
    {
     "data": {
      "text/plain": [
       "index                     int64\n",
       "date             datetime64[ns]\n",
       "user_id                  object\n",
       "build_version            object\n",
       "store_id                 object\n",
       "player_level            float64\n",
       "dtype: object"
      ]
     },
     "execution_count": 91,
     "metadata": {},
     "output_type": "execute_result"
    }
   ],
   "source": [
    "game_started.dtypes"
   ]
  },
  {
   "cell_type": "code",
   "execution_count": 92,
   "metadata": {
    "collapsed": false,
    "deletable": true,
    "editable": true
   },
   "outputs": [
    {
     "data": {
      "text/html": [
       "<div>\n",
       "<style scoped>\n",
       "    .dataframe tbody tr th:only-of-type {\n",
       "        vertical-align: middle;\n",
       "    }\n",
       "\n",
       "    .dataframe tbody tr th {\n",
       "        vertical-align: top;\n",
       "    }\n",
       "\n",
       "    .dataframe thead th {\n",
       "        text-align: right;\n",
       "    }\n",
       "</style>\n",
       "<table border=\"1\" class=\"dataframe\">\n",
       "  <thead>\n",
       "    <tr style=\"text-align: right;\">\n",
       "      <th></th>\n",
       "      <th>date</th>\n",
       "      <th>build_version</th>\n",
       "      <th>player_level</th>\n",
       "      <th>index</th>\n",
       "      <th>user_id</th>\n",
       "      <th>store_id</th>\n",
       "    </tr>\n",
       "  </thead>\n",
       "  <tbody>\n",
       "    <tr>\n",
       "      <th>0</th>\n",
       "      <td>2018-01-16</td>\n",
       "      <td>0.0.1</td>\n",
       "      <td>3.0</td>\n",
       "      <td>148</td>\n",
       "      <td>148</td>\n",
       "      <td>148</td>\n",
       "    </tr>\n",
       "    <tr>\n",
       "      <th>1</th>\n",
       "      <td>2018-01-16</td>\n",
       "      <td>0.0.1</td>\n",
       "      <td>4.0</td>\n",
       "      <td>3</td>\n",
       "      <td>3</td>\n",
       "      <td>3</td>\n",
       "    </tr>\n",
       "    <tr>\n",
       "      <th>2</th>\n",
       "      <td>2018-01-16</td>\n",
       "      <td>0.0.1</td>\n",
       "      <td>5.0</td>\n",
       "      <td>5</td>\n",
       "      <td>5</td>\n",
       "      <td>5</td>\n",
       "    </tr>\n",
       "    <tr>\n",
       "      <th>3</th>\n",
       "      <td>2018-01-16</td>\n",
       "      <td>0.0.1</td>\n",
       "      <td>15.0</td>\n",
       "      <td>7</td>\n",
       "      <td>7</td>\n",
       "      <td>7</td>\n",
       "    </tr>\n",
       "    <tr>\n",
       "      <th>4</th>\n",
       "      <td>2018-01-16</td>\n",
       "      <td>0.0.1</td>\n",
       "      <td>29.0</td>\n",
       "      <td>5</td>\n",
       "      <td>5</td>\n",
       "      <td>5</td>\n",
       "    </tr>\n",
       "  </tbody>\n",
       "</table>\n",
       "</div>"
      ],
      "text/plain": [
       "        date build_version  player_level  index  user_id  store_id\n",
       "0 2018-01-16         0.0.1           3.0    148      148       148\n",
       "1 2018-01-16         0.0.1           4.0      3        3         3\n",
       "2 2018-01-16         0.0.1           5.0      5        5         5\n",
       "3 2018-01-16         0.0.1          15.0      7        7         7\n",
       "4 2018-01-16         0.0.1          29.0      5        5         5"
      ]
     },
     "execution_count": 92,
     "metadata": {},
     "output_type": "execute_result"
    }
   ],
   "source": [
    "Daily_Active_User=game_started.groupby(['date','build_version','player_level'],as_index=False).count()\n",
    "Daily_Active_User.head()"
   ]
  },
  {
   "cell_type": "code",
   "execution_count": 93,
   "metadata": {
    "collapsed": false,
    "deletable": true,
    "editable": true
   },
   "outputs": [
    {
     "data": {
      "image/png": "[encoded data removed]",
      "text/plain": [
       "<Figure size 432x288 with 1 Axes>"
      ]
     },
     "metadata": {},
     "output_type": "display_data"
    }
   ],
   "source": [
    "import seaborn as sns\n",
    "ax = sns.countplot(x=\"player_level\", hue=\"build_version\", data=Daily_Active_User)"
   ]
  },
  {
   "cell_type": "markdown",
   "metadata": {
    "deletable": true,
    "editable": true
   },
   "source": [
    "As per the the table and plot from above, more players with low lever are playing the new versions (second and third) of the game, while very few players reached a higher level with the old version. This might be due to the fact that they kept playing and did not upgrade the version. "
   ]
  },
  {
   "cell_type": "code",
   "execution_count": 94,
   "metadata": {
    "collapsed": false,
    "deletable": true,
    "editable": true
   },
   "outputs": [
    {
     "data": {
      "text/plain": [
       "<matplotlib.axes._subplots.AxesSubplot at 0x1a619465e10>"
      ]
     },
     "execution_count": 94,
     "metadata": {},
     "output_type": "execute_result"
    },
    {
     "data": {
      "image/png": "[encoded data removed]",
      "text/plain": [
       "<Figure size 432x288 with 1 Axes>"
      ]
     },
     "metadata": {},
     "output_type": "display_data"
    }
   ],
   "source": [
    "# Swarmplot \n",
    "sns.swarmplot(x='player_level', y='user_id', data=Daily_Active_User, \n",
    "              hue='build_version')"
   ]
  },
  {
   "cell_type": "markdown",
   "metadata": {
    "deletable": true,
    "editable": true
   },
   "source": [
    "As per the the table and plot from above, more players played the old versions at the release of the game, followed by a uniform distrbution in players's level using the second and third version.\n",
    "\n"
   ]
  },
  {
   "cell_type": "code",
   "execution_count": 95,
   "metadata": {
    "collapsed": false,
    "deletable": true,
    "editable": true
   },
   "outputs": [
    {
     "data": {
      "text/plain": [
       "<matplotlib.axes._subplots.AxesSubplot at 0x1a61960c710>"
      ]
     },
     "execution_count": 95,
     "metadata": {},
     "output_type": "execute_result"
    },
    {
     "data": {
      "image/png": "[encoded data removed]",
      "text/plain": [
       "<Figure size 432x288 with 1 Axes>"
      ]
     },
     "metadata": {},
     "output_type": "display_data"
    }
   ],
   "source": [
    "# Swarmplot with melted_df\n",
    "sns.swarmplot(x='date', y='user_id', data=Daily_Active_User, \n",
    "              hue='build_version')"
   ]
  },
  {
   "cell_type": "markdown",
   "metadata": {
    "deletable": true,
    "editable": true
   },
   "source": [
    "As per the the table and plot from above, over the studied period, the old vesion was used by more users in large variations, while the second and third version were used by fewer players, but in a uniform distribution."
   ]
  },
  {
   "cell_type": "markdown",
   "metadata": {
    "deletable": true,
    "editable": true
   },
   "source": [
    "- __Daily Revenue__"
   ]
  },
  {
   "cell_type": "code",
   "execution_count": 96,
   "metadata": {
    "collapsed": false,
    "deletable": true,
    "editable": true
   },
   "outputs": [
    {
     "data": {
      "text/html": [
       "<div>\n",
       "<style scoped>\n",
       "    .dataframe tbody tr th:only-of-type {\n",
       "        vertical-align: middle;\n",
       "    }\n",
       "\n",
       "    .dataframe tbody tr th {\n",
       "        vertical-align: top;\n",
       "    }\n",
       "\n",
       "    .dataframe thead th {\n",
       "        text-align: right;\n",
       "    }\n",
       "</style>\n",
       "<table border=\"1\" class=\"dataframe\">\n",
       "  <thead>\n",
       "    <tr style=\"text-align: right;\">\n",
       "      <th></th>\n",
       "      <th>index</th>\n",
       "      <th>date</th>\n",
       "      <th>user_id</th>\n",
       "      <th>build_version</th>\n",
       "      <th>store_id</th>\n",
       "      <th>player_level</th>\n",
       "      <th>store_item_name</th>\n",
       "      <th>dollar_spent</th>\n",
       "    </tr>\n",
       "  </thead>\n",
       "  <tbody>\n",
       "    <tr>\n",
       "      <th>0</th>\n",
       "      <td>0</td>\n",
       "      <td>2018-01-25</td>\n",
       "      <td>961f4389-e833-4f45-8e91-7074d90f77bd</td>\n",
       "      <td>0.8</td>\n",
       "      <td>iOS</td>\n",
       "      <td>3.0</td>\n",
       "      <td>bundle_1</td>\n",
       "      <td>15.99</td>\n",
       "    </tr>\n",
       "    <tr>\n",
       "      <th>1</th>\n",
       "      <td>1</td>\n",
       "      <td>2018-01-29</td>\n",
       "      <td>ed39ad9a-3db4-4c86-9df8-f94c9997a93b</td>\n",
       "      <td>1.2</td>\n",
       "      <td>iOS</td>\n",
       "      <td>5.0</td>\n",
       "      <td>bundle_8</td>\n",
       "      <td>18.50</td>\n",
       "    </tr>\n",
       "    <tr>\n",
       "      <th>2</th>\n",
       "      <td>2</td>\n",
       "      <td>2018-01-29</td>\n",
       "      <td>b6bab288-d92b-4965-ae84-a15ea06f2809</td>\n",
       "      <td>1.2</td>\n",
       "      <td>iOS</td>\n",
       "      <td>3.0</td>\n",
       "      <td>pack_d</td>\n",
       "      <td>2.50</td>\n",
       "    </tr>\n",
       "    <tr>\n",
       "      <th>3</th>\n",
       "      <td>3</td>\n",
       "      <td>2018-01-29</td>\n",
       "      <td>b6bab288-d92b-4965-ae84-a15ea06f2809</td>\n",
       "      <td>1.2</td>\n",
       "      <td>iOS</td>\n",
       "      <td>3.0</td>\n",
       "      <td>pack_a</td>\n",
       "      <td>0.99</td>\n",
       "    </tr>\n",
       "    <tr>\n",
       "      <th>4</th>\n",
       "      <td>4</td>\n",
       "      <td>2018-01-19</td>\n",
       "      <td>9966011a-6c63-406b-a50e-97054e4deabd</td>\n",
       "      <td>0.8</td>\n",
       "      <td>iOS</td>\n",
       "      <td>26.0</td>\n",
       "      <td>bundle_3</td>\n",
       "      <td>21.99</td>\n",
       "    </tr>\n",
       "  </tbody>\n",
       "</table>\n",
       "</div>"
      ],
      "text/plain": [
       "   index        date                               user_id  build_version  \\\n",
       "0      0  2018-01-25  961f4389-e833-4f45-8e91-7074d90f77bd            0.8   \n",
       "1      1  2018-01-29  ed39ad9a-3db4-4c86-9df8-f94c9997a93b            1.2   \n",
       "2      2  2018-01-29  b6bab288-d92b-4965-ae84-a15ea06f2809            1.2   \n",
       "3      3  2018-01-29  b6bab288-d92b-4965-ae84-a15ea06f2809            1.2   \n",
       "4      4  2018-01-19  9966011a-6c63-406b-a50e-97054e4deabd            0.8   \n",
       "\n",
       "  store_id  player_level store_item_name  dollar_spent  \n",
       "0      iOS           3.0        bundle_1         15.99  \n",
       "1      iOS           5.0        bundle_8         18.50  \n",
       "2      iOS           3.0          pack_d          2.50  \n",
       "3      iOS           3.0          pack_a          0.99  \n",
       "4      iOS          26.0        bundle_3         21.99  "
      ]
     },
     "execution_count": 96,
     "metadata": {},
     "output_type": "execute_result"
    }
   ],
   "source": [
    "purchases = purchases.replace('\\r\\n', np.nan).dropna()\n",
    "purchases.head()"
   ]
  },
  {
   "cell_type": "code",
   "execution_count": 97,
   "metadata": {
    "collapsed": true,
    "deletable": true,
    "editable": true
   },
   "outputs": [],
   "source": [
    "purchases['date'] = pd.to_datetime(purchases['date'])"
   ]
  },
  {
   "cell_type": "code",
   "execution_count": 98,
   "metadata": {
    "collapsed": false,
    "deletable": true,
    "editable": true
   },
   "outputs": [
    {
     "data": {
      "text/html": [
       "<div>\n",
       "<style scoped>\n",
       "    .dataframe tbody tr th:only-of-type {\n",
       "        vertical-align: middle;\n",
       "    }\n",
       "\n",
       "    .dataframe tbody tr th {\n",
       "        vertical-align: top;\n",
       "    }\n",
       "\n",
       "    .dataframe thead th {\n",
       "        text-align: right;\n",
       "    }\n",
       "</style>\n",
       "<table border=\"1\" class=\"dataframe\">\n",
       "  <thead>\n",
       "    <tr style=\"text-align: right;\">\n",
       "      <th></th>\n",
       "      <th></th>\n",
       "      <th>index</th>\n",
       "      <th>build_version</th>\n",
       "      <th>player_level</th>\n",
       "      <th>dollar_spent</th>\n",
       "    </tr>\n",
       "    <tr>\n",
       "      <th>date</th>\n",
       "      <th>store_item_name</th>\n",
       "      <th></th>\n",
       "      <th></th>\n",
       "      <th></th>\n",
       "      <th></th>\n",
       "    </tr>\n",
       "  </thead>\n",
       "  <tbody>\n",
       "    <tr>\n",
       "      <th rowspan=\"5\" valign=\"top\">2018-01-16</th>\n",
       "      <th>bundle_1</th>\n",
       "      <td>203</td>\n",
       "      <td>1.6</td>\n",
       "      <td>17.0</td>\n",
       "      <td>31.98</td>\n",
       "    </tr>\n",
       "    <tr>\n",
       "      <th>bundle_8</th>\n",
       "      <td>437</td>\n",
       "      <td>1.6</td>\n",
       "      <td>7.0</td>\n",
       "      <td>37.00</td>\n",
       "    </tr>\n",
       "    <tr>\n",
       "      <th>bundle_9</th>\n",
       "      <td>266</td>\n",
       "      <td>0.8</td>\n",
       "      <td>1.0</td>\n",
       "      <td>18.50</td>\n",
       "    </tr>\n",
       "    <tr>\n",
       "      <th>pack_a</th>\n",
       "      <td>149</td>\n",
       "      <td>0.8</td>\n",
       "      <td>1.0</td>\n",
       "      <td>0.99</td>\n",
       "    </tr>\n",
       "    <tr>\n",
       "      <th>pack_b</th>\n",
       "      <td>22</td>\n",
       "      <td>0.8</td>\n",
       "      <td>1.0</td>\n",
       "      <td>1.20</td>\n",
       "    </tr>\n",
       "  </tbody>\n",
       "</table>\n",
       "</div>"
      ],
      "text/plain": [
       "                            index  build_version  player_level  dollar_spent\n",
       "date       store_item_name                                                  \n",
       "2018-01-16 bundle_1           203            1.6          17.0         31.98\n",
       "           bundle_8           437            1.6           7.0         37.00\n",
       "           bundle_9           266            0.8           1.0         18.50\n",
       "           pack_a             149            0.8           1.0          0.99\n",
       "           pack_b              22            0.8           1.0          1.20"
      ]
     },
     "execution_count": 98,
     "metadata": {},
     "output_type": "execute_result"
    }
   ],
   "source": [
    "d=purchases.groupby(['date', 'store_item_name'], as_index=True).sum()\n",
    "d.head()"
   ]
  },
  {
   "cell_type": "code",
   "execution_count": 99,
   "metadata": {
    "collapsed": false,
    "deletable": true,
    "editable": true
   },
   "outputs": [
    {
     "data": {
      "text/html": [
       "<div>\n",
       "<style scoped>\n",
       "    .dataframe tbody tr th:only-of-type {\n",
       "        vertical-align: middle;\n",
       "    }\n",
       "\n",
       "    .dataframe tbody tr th {\n",
       "        vertical-align: top;\n",
       "    }\n",
       "\n",
       "    .dataframe thead th {\n",
       "        text-align: right;\n",
       "    }\n",
       "</style>\n",
       "<table border=\"1\" class=\"dataframe\">\n",
       "  <thead>\n",
       "    <tr style=\"text-align: right;\">\n",
       "      <th></th>\n",
       "      <th>date</th>\n",
       "      <th>store_item_name</th>\n",
       "      <th>index</th>\n",
       "      <th>build_version</th>\n",
       "      <th>player_level</th>\n",
       "      <th>dollar_spent</th>\n",
       "    </tr>\n",
       "  </thead>\n",
       "  <tbody>\n",
       "    <tr>\n",
       "      <th>0</th>\n",
       "      <td>2018-01-16</td>\n",
       "      <td>bundle_1</td>\n",
       "      <td>203</td>\n",
       "      <td>1.6</td>\n",
       "      <td>17.0</td>\n",
       "      <td>31.98</td>\n",
       "    </tr>\n",
       "    <tr>\n",
       "      <th>1</th>\n",
       "      <td>2018-01-16</td>\n",
       "      <td>bundle_8</td>\n",
       "      <td>437</td>\n",
       "      <td>1.6</td>\n",
       "      <td>7.0</td>\n",
       "      <td>37.00</td>\n",
       "    </tr>\n",
       "    <tr>\n",
       "      <th>2</th>\n",
       "      <td>2018-01-16</td>\n",
       "      <td>bundle_9</td>\n",
       "      <td>266</td>\n",
       "      <td>0.8</td>\n",
       "      <td>1.0</td>\n",
       "      <td>18.50</td>\n",
       "    </tr>\n",
       "    <tr>\n",
       "      <th>3</th>\n",
       "      <td>2018-01-16</td>\n",
       "      <td>pack_a</td>\n",
       "      <td>149</td>\n",
       "      <td>0.8</td>\n",
       "      <td>1.0</td>\n",
       "      <td>0.99</td>\n",
       "    </tr>\n",
       "    <tr>\n",
       "      <th>4</th>\n",
       "      <td>2018-01-16</td>\n",
       "      <td>pack_b</td>\n",
       "      <td>22</td>\n",
       "      <td>0.8</td>\n",
       "      <td>1.0</td>\n",
       "      <td>1.20</td>\n",
       "    </tr>\n",
       "    <tr>\n",
       "      <th>5</th>\n",
       "      <td>2018-01-16</td>\n",
       "      <td>pack_e</td>\n",
       "      <td>16</td>\n",
       "      <td>0.8</td>\n",
       "      <td>1.0</td>\n",
       "      <td>5.00</td>\n",
       "    </tr>\n",
       "    <tr>\n",
       "      <th>6</th>\n",
       "      <td>2018-01-18</td>\n",
       "      <td>bundle_1</td>\n",
       "      <td>989</td>\n",
       "      <td>3.2</td>\n",
       "      <td>17.0</td>\n",
       "      <td>63.96</td>\n",
       "    </tr>\n",
       "    <tr>\n",
       "      <th>7</th>\n",
       "      <td>2018-01-18</td>\n",
       "      <td>bundle_10</td>\n",
       "      <td>1600</td>\n",
       "      <td>7.2</td>\n",
       "      <td>73.0</td>\n",
       "      <td>166.50</td>\n",
       "    </tr>\n",
       "    <tr>\n",
       "      <th>8</th>\n",
       "      <td>2018-01-18</td>\n",
       "      <td>bundle_2</td>\n",
       "      <td>714</td>\n",
       "      <td>2.4</td>\n",
       "      <td>18.0</td>\n",
       "      <td>4.50</td>\n",
       "    </tr>\n",
       "    <tr>\n",
       "      <th>9</th>\n",
       "      <td>2018-01-18</td>\n",
       "      <td>bundle_3</td>\n",
       "      <td>1364</td>\n",
       "      <td>4.8</td>\n",
       "      <td>39.0</td>\n",
       "      <td>131.94</td>\n",
       "    </tr>\n",
       "  </tbody>\n",
       "</table>\n",
       "</div>"
      ],
      "text/plain": [
       "        date store_item_name  index  build_version  player_level  dollar_spent\n",
       "0 2018-01-16        bundle_1    203            1.6          17.0         31.98\n",
       "1 2018-01-16        bundle_8    437            1.6           7.0         37.00\n",
       "2 2018-01-16        bundle_9    266            0.8           1.0         18.50\n",
       "3 2018-01-16          pack_a    149            0.8           1.0          0.99\n",
       "4 2018-01-16          pack_b     22            0.8           1.0          1.20\n",
       "5 2018-01-16          pack_e     16            0.8           1.0          5.00\n",
       "6 2018-01-18        bundle_1    989            3.2          17.0         63.96\n",
       "7 2018-01-18       bundle_10   1600            7.2          73.0        166.50\n",
       "8 2018-01-18        bundle_2    714            2.4          18.0          4.50\n",
       "9 2018-01-18        bundle_3   1364            4.8          39.0        131.94"
      ]
     },
     "execution_count": 99,
     "metadata": {},
     "output_type": "execute_result"
    }
   ],
   "source": [
    "dr=purchases.groupby(['date', 'store_item_name'], as_index=False).sum()\n",
    "dr.head(10)"
   ]
  },
  {
   "cell_type": "code",
   "execution_count": 100,
   "metadata": {
    "collapsed": true,
    "deletable": true,
    "editable": true
   },
   "outputs": [],
   "source": [
    "pkmn_type_colors = ['#78C850',  # Grass\n",
    "                    '#F08030',  # Fire\n",
    "                    '#6890F0',  # Water\n",
    "                    '#A8B820',  # Bug\n",
    "                    '#A8A878',  # Normal\n",
    "                    '#A040A0',  # Poison\n",
    "                    '#F8D030',  # Electric\n",
    "                    '#E0C068',  # Ground\n",
    "                    '#EE99AC',  # Fairy\n",
    "                    '#C03028',  # Fighting\n",
    "                    '#F85888',  # Psychic\n",
    "                    '#B8A038',  # Rock\n",
    "                    '#705898',  # Ghost\n",
    "                    '#98D8D8',  # Ice\n",
    "                    '#7038F8',  # Dragon\n",
    "                   ]"
   ]
  },
  {
   "cell_type": "code",
   "execution_count": 101,
   "metadata": {
    "collapsed": false,
    "deletable": true,
    "editable": true
   },
   "outputs": [
    {
     "name": "stderr",
     "output_type": "stream",
     "text": [
      "C:\\Users\\Daniela\\Anaconda3\\lib\\site-packages\\seaborn\\categorical.py:2783: UserWarning: The `split` parameter has been renamed to `dodge`.\n",
      "  warnings.warn(msg, UserWarning)\n"
     ]
    },
    {
     "data": {
      "text/plain": [
       "<matplotlib.legend.Legend at 0x1a618be5a90>"
      ]
     },
     "execution_count": 101,
     "metadata": {},
     "output_type": "execute_result"
    },
    {
     "data": {
      "image/png": "[encoded data removed]",
      "text/plain": [
       "<Figure size 720x432 with 1 Axes>"
      ]
     },
     "metadata": {},
     "output_type": "display_data"
    }
   ],
   "source": [
    " # 1. Enlarge the plot\n",
    "plt.figure(figsize=(10,6))\n",
    " \n",
    "sns.swarmplot(x='store_item_name', \n",
    "              y='dollar_spent', \n",
    "              data=dr, \n",
    "              hue='date', \n",
    "              split=True, # 2. Separate points by hue\n",
    "              palette=pkmn_type_colors) # 3. Use Pokemon palette\n",
    " \n",
    "# 4. Adjust the y-axis\n",
    "plt.ylim(0, 260)\n",
    " \n",
    "# 5. Place legend to the right\n",
    "plt.legend(bbox_to_anchor=(1, 1), loc=2)"
   ]
  },
  {
   "cell_type": "markdown",
   "metadata": {
    "deletable": true,
    "editable": true
   },
   "source": [
    "As per the the table and plot from above, over the studied period, the items bundle_1,2,3,8,9 and 10 seems to be preffered among players and to bring the most of revenue."
   ]
  },
  {
   "cell_type": "markdown",
   "metadata": {
    "deletable": true,
    "editable": true
   },
   "source": [
    "- __Daily Conversion__"
   ]
  },
  {
   "cell_type": "markdown",
   "metadata": {
    "deletable": true,
    "editable": true
   },
   "source": [
    "Number of unique player who made a purchase"
   ]
  },
  {
   "cell_type": "code",
   "execution_count": 102,
   "metadata": {
    "collapsed": false,
    "deletable": true,
    "editable": true
   },
   "outputs": [
    {
     "data": {
      "text/plain": [
       "90"
      ]
     },
     "execution_count": 102,
     "metadata": {},
     "output_type": "execute_result"
    }
   ],
   "source": [
    "len(set(purchases['user_id']))"
   ]
  },
  {
   "cell_type": "markdown",
   "metadata": {
    "deletable": true,
    "editable": true
   },
   "source": [
    "Daily Conversion "
   ]
  },
  {
   "cell_type": "code",
   "execution_count": 103,
   "metadata": {
    "collapsed": false,
    "deletable": true,
    "editable": true
   },
   "outputs": [
    {
     "data": {
      "text/plain": [
       "date\n",
       "2018-01-16     8\n",
       "2018-01-18    68\n",
       "2018-01-19    75\n",
       "2018-01-20    55\n",
       "2018-01-22     9\n",
       "2018-01-23     2\n",
       "2018-01-24    29\n",
       "2018-01-25    34\n",
       "2018-01-26     4\n",
       "2018-01-27     1\n",
       "Name: user_id, dtype: int64"
      ]
     },
     "execution_count": 103,
     "metadata": {},
     "output_type": "execute_result"
    }
   ],
   "source": [
    "r=purchases.groupby(['date'], as_index=True)['user_id'].count()\n",
    "r.head(10)"
   ]
  },
  {
   "cell_type": "markdown",
   "metadata": {
    "deletable": true,
    "editable": true
   },
   "source": [
    "Daily Conversion in percentage"
   ]
  },
  {
   "cell_type": "code",
   "execution_count": 104,
   "metadata": {
    "collapsed": false,
    "deletable": true,
    "editable": true
   },
   "outputs": [
    {
     "data": {
      "text/plain": [
       "date\n",
       "2018-01-16     8.888889\n",
       "2018-01-18    75.555556\n",
       "2018-01-19    83.333333\n",
       "2018-01-20    61.111111\n",
       "2018-01-22    10.000000\n",
       "2018-01-23     2.222222\n",
       "2018-01-24    32.222222\n",
       "2018-01-25    37.777778\n",
       "2018-01-26     4.444444\n",
       "2018-01-27     1.111111\n",
       "Name: user_id, dtype: float64"
      ]
     },
     "execution_count": 104,
     "metadata": {},
     "output_type": "execute_result"
    }
   ],
   "source": [
    "conversion=purchases.groupby(['date'], as_index=True)['user_id'].count()/90*100\n",
    "conversion.head(10)"
   ]
  },
  {
   "cell_type": "markdown",
   "metadata": {
    "deletable": true,
    "editable": true
   },
   "source": [
    "Daily Conversion per pack"
   ]
  },
  {
   "cell_type": "code",
   "execution_count": 105,
   "metadata": {
    "collapsed": false,
    "deletable": true,
    "editable": true
   },
   "outputs": [
    {
     "data": {
      "text/plain": [
       "date        store_item_name\n",
       "2018-01-16  bundle_1            2.222222\n",
       "            bundle_8            2.222222\n",
       "            bundle_9            1.111111\n",
       "            pack_a              1.111111\n",
       "            pack_b              1.111111\n",
       "            pack_e              1.111111\n",
       "2018-01-18  bundle_1            4.444444\n",
       "            bundle_10          10.000000\n",
       "            bundle_2            3.333333\n",
       "            bundle_3            6.666667\n",
       "Name: user_id, dtype: float64"
      ]
     },
     "execution_count": 105,
     "metadata": {},
     "output_type": "execute_result"
    }
   ],
   "source": [
    "re=purchases.groupby(['date', 'store_item_name'], as_index=True)['user_id'].count()/90*100\n",
    "re.head(10)"
   ]
  },
  {
   "cell_type": "markdown",
   "metadata": {
    "collapsed": true,
    "deletable": true,
    "editable": true
   },
   "source": [
    "As per the tables  from above,first few days after the release, the daily conversion is high, especially for the bundle items."
   ]
  },
  {
   "cell_type": "markdown",
   "metadata": {
    "collapsed": true,
    "deletable": true,
    "editable": true
   },
   "source": [
    "### Qestion B"
   ]
  },
  {
   "cell_type": "markdown",
   "metadata": {
    "deletable": true,
    "editable": true
   },
   "source": [
    "__What segments will you use and how will you create it?__\n",
    "\n",
    "Two segments would be very interesting to see: \n",
    "- the players who spend in the game: on what/ how much?\n",
    "- the players who are more active: when during the day/night and how many minutes\n",
    "\n",
    "For this, more complex and elaborated data is necessary. Otherwise, the analysis on these segments will look similar to the one from question C.\n",
    "For the active players, I would separate them by day-hours and night-hours (hours corresponding to their country, log-in hour), minutes spent, in order to know when is best time to upgrade or release version. "
   ]
  },
  {
   "cell_type": "markdown",
   "metadata": {
    "deletable": true,
    "editable": true
   },
   "source": [
    "### Question C"
   ]
  },
  {
   "cell_type": "markdown",
   "metadata": {
    "deletable": true,
    "editable": true
   },
   "source": [
    "- Point A: During the first day of game release, many users are active, as they were waiting to play the game\n",
    "- Point B: After the Game update: possible there are few bugs, and users cannot play the game; the number of users drop down\n",
    "- Point C: After the game has been fixed, the daily variation in active users has a positive variation above the average "
   ]
  },
  {
   "cell_type": "code",
   "execution_count": null,
   "metadata": {
    "collapsed": true,
    "deletable": true,
    "editable": true
   },
   "outputs": [],
   "source": []
  }
 ],
 "metadata": {
  "kernelspec": {
   "display_name": "Python 3",
   "language": "python",
   "name": "python3"
  },
  "language_info": {
   "codemirror_mode": {
    "name": "ipython",
    "version": 3
   },
   "file_extension": ".py",
   "mimetype": "text/x-python",
   "name": "python",
   "nbconvert_exporter": "python",
   "pygments_lexer": "ipython3",
   "version": "3.6.3"
  }
 },
 "nbformat": 4,
 "nbformat_minor": 2
}
